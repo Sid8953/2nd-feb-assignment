{
 "cells": [
  {
   "cell_type": "code",
   "execution_count": 2,
   "id": "14e281b5-48af-4a46-8bad-d38fb5920aab",
   "metadata": {},
   "outputs": [
    {
     "name": "stdout",
     "output_type": "stream",
     "text": [
      "1\n",
      "3\n",
      "5\n",
      "7\n",
      "9\n"
     ]
    }
   ],
   "source": [
    "# ans 1\n",
    "# WHILE LOOP\n",
    "x = 1\n",
    "while (x <10):\n",
    "    print(x)\n",
    "    x = x +2"
   ]
  },
  {
   "cell_type": "code",
   "execution_count": 3,
   "id": "9af3cdd0-b498-4910-9bc1-f1b0a03124b1",
   "metadata": {},
   "outputs": [
    {
     "name": "stdout",
     "output_type": "stream",
     "text": [
      "1\n",
      "2\n",
      "3\n",
      "4\n",
      "5\n",
      "6\n",
      "7\n",
      "8\n",
      "9\n",
      "10\n",
      "11\n",
      "12\n",
      "13\n",
      "14\n",
      "15\n",
      "16\n",
      "17\n",
      "18\n",
      "19\n"
     ]
    }
   ],
   "source": [
    "# FOR LOOP\n",
    "x = 1 \n",
    "for i in range(1,20):\n",
    "    print(i)"
   ]
  },
  {
   "cell_type": "code",
   "execution_count": 8,
   "id": "834d4fc7-fce2-4c36-8b42-4977a79fbd6f",
   "metadata": {},
   "outputs": [
    {
     "name": "stdout",
     "output_type": "stream",
     "text": [
      "the sum is 55\n"
     ]
    }
   ],
   "source": [
    "# ans 2 WHILE LOOP SUM OF 10 NATURAL NUMBER\n",
    "num = 10\n",
    "if num <0:\n",
    "    print(\"enter a positive number\")\n",
    "else:\n",
    "    sum = 0\n",
    "    while(num>0):\n",
    "        sum += num\n",
    "        num -= 1 \n",
    "    print(\"the sum is\", sum)"
   ]
  },
  {
   "cell_type": "code",
   "execution_count": 10,
   "id": "b154f635-cd35-46eb-8883-4b4e94f54e40",
   "metadata": {},
   "outputs": [
    {
     "name": "stdin",
     "output_type": "stream",
     "text": [
      "enter the number: 10\n"
     ]
    },
    {
     "name": "stdout",
     "output_type": "stream",
     "text": [
      "55\n"
     ]
    }
   ],
   "source": [
    "# ans 2 FOR LOOP SUM OF 10 NATURAL NUMBER\n",
    "number = int(input(\"enter the number:\"))\n",
    "sum = 0\n",
    "for value in range(1,number+1):\n",
    "    sum = sum + value\n",
    "print(sum)"
   ]
  },
  {
   "cell_type": "code",
   "execution_count": 14,
   "id": "768c7d52-7bc4-4fe4-9bf5-3ed01b9c8a9f",
   "metadata": {},
   "outputs": [
    {
     "name": "stdin",
     "output_type": "stream",
     "text": [
      "enter your electricity unit 310\n"
     ]
    },
    {
     "name": "stdout",
     "output_type": "stream",
     "text": [
      "Total Electricity Bill : 2250.0\n"
     ]
    }
   ],
   "source": [
    "# ans 3\n",
    "unit = int(input(\"enter your electricity unit\"))\n",
    "charge = 0\n",
    "count = 0\n",
    "while unit >0:\n",
    "    if count == 0:\n",
    "        if unit <=100:\n",
    "            charge = charge + unit*4.5\n",
    "            break\n",
    "        else:\n",
    "            charge = charge+100*4.5\n",
    "            unit = unit - 100\n",
    "            count = count + 1\n",
    "    elif count == 1:\n",
    "            if unit  <=100:\n",
    "                charge = chage +unit*6\n",
    "                break\n",
    "            else:\n",
    "                charge = charge+100*6\n",
    "                unit = unit-100\n",
    "                count = count +1\n",
    "    elif count == 2:\n",
    "                if unit <=100:\n",
    "                    charge = charge + unit*10\n",
    "                    break\n",
    "                else:\n",
    "                    charge = charge + 100*10\n",
    "                    unit = unit - 100\n",
    "                    count = count + 1\n",
    "    else:\n",
    "        charge = charge+unit*20\n",
    "        unit = 0\n",
    "        break\n",
    "             \n",
    "                    \n",
    "print(\"Total Electricity Bill :\",charge)"
   ]
  },
  {
   "cell_type": "code",
   "execution_count": 10,
   "id": "9d80dd9b-741f-4727-ac3b-839a0d5f4a9f",
   "metadata": {},
   "outputs": [
    {
     "name": "stdout",
     "output_type": "stream",
     "text": [
      "[1, 8, 27, 64, 125, 216, 343, 512, 729, 1000, 1331, 1728, 2197, 2744, 3375, 4096, 4913, 5832, 6859, 8000, 9261, 10648, 12167, 13824, 15625, 17576, 19683, 21952, 24389, 27000, 29791, 32768, 35937, 39304, 42875, 46656, 50653, 54872, 59319, 64000, 68921, 74088, 79507, 85184, 91125, 97336, 103823, 110592, 117649, 125000, 132651, 140608, 148877, 157464, 166375, 175616, 185193, 195112, 205379, 216000, 226981, 238328, 250047, 262144, 274625, 287496, 300763, 314432, 328509, 343000, 357911, 373248, 389017, 405224, 421875, 438976, 456533, 474552, 493039, 512000, 531441, 551368, 571787, 592704, 614125, 636056, 658503, 681472, 704969, 729000, 753571, 778688, 804357, 830584, 857375, 884736, 912673, 941192, 970299, 1000000]\n"
     ]
    }
   ],
   "source": [
    "# ans 4\n",
    "a = [i**3 for i in range(1,101)]\n",
    "print(a)\n"
   ]
  },
  {
   "cell_type": "code",
   "execution_count": 1,
   "id": "58279d58-5fba-43fb-aad0-1b1e05d312ec",
   "metadata": {},
   "outputs": [
    {
     "name": "stdout",
     "output_type": "stream",
     "text": [
      "[8, 64, 216, 512, 1000, 1728, 2744, 4096, 5832, 8000, 10648, 13824, 17576, 21952, 27000, 32768, 39304, 46656, 54872, 64000, 74088, 85184, 97336, 110592, 125000, 140608, 157464, 175616, 195112, 216000, 238328, 262144, 287496, 314432, 343000, 373248, 405224, 438976, 474552, 512000, 551368, 592704, 636056, 681472, 729000, 778688, 830584, 884736, 941192, 1000000]\n"
     ]
    }
   ],
   "source": [
    "cube_divisible_by_4 = [i**3 for i in range(1,101) if (i**3)%4 == 0]\n",
    "print(cube_divisible_by_4)"
   ]
  },
  {
   "cell_type": "code",
   "execution_count": 2,
   "id": "12bca10d-1b2f-42b3-955c-e547c8d9d465",
   "metadata": {},
   "outputs": [
    {
     "name": "stdout",
     "output_type": "stream",
     "text": [
      "[125, 1000, 3375, 8000, 15625, 27000, 42875, 64000, 91125, 125000, 166375, 216000, 274625, 343000, 421875, 512000, 614125, 729000, 857375, 1000000]\n"
     ]
    }
   ],
   "source": [
    "cube_divisible_by_5 = [i**3 for i in range(1,101) if (i**3)%5 == 0]\n",
    "print(cube_divisible_by_5)"
   ]
  },
  {
   "cell_type": "code",
   "execution_count": 12,
   "id": "37248c6c-e044-4b29-806e-9b3d0639563a",
   "metadata": {},
   "outputs": [
    {
     "name": "stdout",
     "output_type": "stream",
     "text": [
      "number of vowels in this given string: 12\n"
     ]
    }
   ],
   "source": [
    "# ans 5 \n",
    "v = ['a', 'e' , 'i' , 'o' , 'u']\n",
    "str= (\"i want to become a data scientist\")\n",
    "vowels = 0 \n",
    "for i in str:\n",
    "    if i in v:\n",
    "        vowels = vowels +1\n",
    "        \n",
    "print(\"number of vowels in this given string:\", vowels)"
   ]
  },
  {
   "cell_type": "code",
   "execution_count": null,
   "id": "1880bb72-f756-4210-ac75-923484cfd68f",
   "metadata": {},
   "outputs": [],
   "source": []
  }
 ],
 "metadata": {
  "kernelspec": {
   "display_name": "Python 3 (ipykernel)",
   "language": "python",
   "name": "python3"
  },
  "language_info": {
   "codemirror_mode": {
    "name": "ipython",
    "version": 3
   },
   "file_extension": ".py",
   "mimetype": "text/x-python",
   "name": "python",
   "nbconvert_exporter": "python",
   "pygments_lexer": "ipython3",
   "version": "3.10.8"
  }
 },
 "nbformat": 4,
 "nbformat_minor": 5
}
